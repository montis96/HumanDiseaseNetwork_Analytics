{
 "cells": [
  {
   "cell_type": "code",
   "execution_count": 1,
   "metadata": {},
   "outputs": [],
   "source": [
    "import pandas as pd\n",
    "import matplotlib.pyplot as plt\n",
    "import seaborn as sns\n",
    "import numpy as np\n",
    "from scipy.stats import norm\n",
    "from sklearn.preprocessing import StandardScaler\n",
    "from scipy import stats\n",
    "%matplotlib inline"
   ]
  },
  {
   "cell_type": "markdown",
   "metadata": {},
   "source": [
    "# Analisi del dataset"
   ]
  },
  {
   "cell_type": "markdown",
   "metadata": {},
   "source": [
    "## Vertices"
   ]
  },
  {
   "cell_type": "code",
   "execution_count": 9,
   "metadata": {},
   "outputs": [
    {
     "data": {
      "text/html": [
       "<div>\n",
       "<style scoped>\n",
       "    .dataframe tbody tr th:only-of-type {\n",
       "        vertical-align: middle;\n",
       "    }\n",
       "\n",
       "    .dataframe tbody tr th {\n",
       "        vertical-align: top;\n",
       "    }\n",
       "\n",
       "    .dataframe thead th {\n",
       "        text-align: right;\n",
       "    }\n",
       "</style>\n",
       "<table border=\"1\" class=\"dataframe\">\n",
       "  <thead>\n",
       "    <tr style=\"text-align: right;\">\n",
       "      <th></th>\n",
       "      <th>label</th>\n",
       "      <th>timeset</th>\n",
       "      <th>kind</th>\n",
       "      <th>type</th>\n",
       "    </tr>\n",
       "    <tr>\n",
       "      <th>id</th>\n",
       "      <th></th>\n",
       "      <th></th>\n",
       "      <th></th>\n",
       "      <th></th>\n",
       "    </tr>\n",
       "  </thead>\n",
       "  <tbody>\n",
       "    <tr>\n",
       "      <th>55</th>\n",
       "      <td>Deafness</td>\n",
       "      <td>NaN</td>\n",
       "      <td>disease</td>\n",
       "      <td>Ear,Nose,Throat</td>\n",
       "    </tr>\n",
       "    <tr>\n",
       "      <th>47</th>\n",
       "      <td>Leukemia</td>\n",
       "      <td>NaN</td>\n",
       "      <td>disease</td>\n",
       "      <td>Cancer</td>\n",
       "    </tr>\n",
       "    <tr>\n",
       "      <th>114</th>\n",
       "      <td>Colon cancer</td>\n",
       "      <td>NaN</td>\n",
       "      <td>disease</td>\n",
       "      <td>Cancer</td>\n",
       "    </tr>\n",
       "    <tr>\n",
       "      <th>45</th>\n",
       "      <td>Retinitis pigmentosa</td>\n",
       "      <td>NaN</td>\n",
       "      <td>disease</td>\n",
       "      <td>Ophthamological</td>\n",
       "    </tr>\n",
       "    <tr>\n",
       "      <th>87</th>\n",
       "      <td>Diabetes mellitus</td>\n",
       "      <td>NaN</td>\n",
       "      <td>disease</td>\n",
       "      <td>Endocrine</td>\n",
       "    </tr>\n",
       "    <tr>\n",
       "      <th>...</th>\n",
       "      <td>...</td>\n",
       "      <td>...</td>\n",
       "      <td>...</td>\n",
       "      <td>...</td>\n",
       "    </tr>\n",
       "    <tr>\n",
       "      <th>1303</th>\n",
       "      <td>Infantile spasm syndrome</td>\n",
       "      <td>NaN</td>\n",
       "      <td>disease</td>\n",
       "      <td>Neurological</td>\n",
       "    </tr>\n",
       "    <tr>\n",
       "      <th>1304</th>\n",
       "      <td>Partington syndrome</td>\n",
       "      <td>NaN</td>\n",
       "      <td>disease</td>\n",
       "      <td>Neurological</td>\n",
       "    </tr>\n",
       "    <tr>\n",
       "      <th>1305</th>\n",
       "      <td>Proud syndrome</td>\n",
       "      <td>NaN</td>\n",
       "      <td>disease</td>\n",
       "      <td>Multiple</td>\n",
       "    </tr>\n",
       "    <tr>\n",
       "      <th>1306</th>\n",
       "      <td>Birt-Hogg-Dube syndrome</td>\n",
       "      <td>NaN</td>\n",
       "      <td>disease</td>\n",
       "      <td>Dermatological</td>\n",
       "    </tr>\n",
       "    <tr>\n",
       "      <th>1307</th>\n",
       "      <td>Pneumothorax, primary spontaneous</td>\n",
       "      <td>NaN</td>\n",
       "      <td>disease</td>\n",
       "      <td>Respiratory</td>\n",
       "    </tr>\n",
       "  </tbody>\n",
       "</table>\n",
       "<p>515 rows × 4 columns</p>\n",
       "</div>"
      ],
      "text/plain": [
       "                                  label  timeset     kind             type\n",
       "id                                                                        \n",
       "55                             Deafness      NaN  disease  Ear,Nose,Throat\n",
       "47                             Leukemia      NaN  disease           Cancer\n",
       "114                        Colon cancer      NaN  disease           Cancer\n",
       "45                 Retinitis pigmentosa      NaN  disease  Ophthamological\n",
       "87                    Diabetes mellitus      NaN  disease        Endocrine\n",
       "...                                 ...      ...      ...              ...\n",
       "1303           Infantile spasm syndrome      NaN  disease     Neurological\n",
       "1304                Partington syndrome      NaN  disease     Neurological\n",
       "1305                     Proud syndrome      NaN  disease         Multiple\n",
       "1306            Birt-Hogg-Dube syndrome      NaN  disease   Dermatological\n",
       "1307  Pneumothorax, primary spontaneous      NaN  disease      Respiratory\n",
       "\n",
       "[515 rows x 4 columns]"
      ]
     },
     "execution_count": 9,
     "metadata": {},
     "output_type": "execute_result"
    }
   ],
   "source": [
    "vertices = pd.read_csv(\"Dataset/disease_vertices.csv\", sep=\";\")\n",
    "vertices = vertices.set_index('id')\n",
    "\n",
    "vertices"
   ]
  },
  {
   "cell_type": "code",
   "execution_count": 10,
   "metadata": {},
   "outputs": [
    {
     "name": "stdout",
     "output_type": "stream",
     "text": [
      "Column:  label\n",
      "count                          515\n",
      "unique                         515\n",
      "top       Dyserythropoietic anemia\n",
      "freq                             1\n",
      "Name: label, dtype: object\n",
      "--\n",
      "Column:  timeset\n",
      "count    0.0\n",
      "mean     NaN\n",
      "std      NaN\n",
      "min      NaN\n",
      "25%      NaN\n",
      "50%      NaN\n",
      "75%      NaN\n",
      "max      NaN\n",
      "Name: timeset, dtype: float64\n",
      "--\n",
      "Column:  kind\n",
      "count         515\n",
      "unique          1\n",
      "top       disease\n",
      "freq          515\n",
      "Name: kind, dtype: object\n",
      "--\n",
      "Column:  type\n",
      "count        515\n",
      "unique        22\n",
      "top       Cancer\n",
      "freq          87\n",
      "Name: type, dtype: object\n",
      "--\n",
      "Number of vertices:  515\n"
     ]
    }
   ],
   "source": [
    "for x in vertices.columns:\n",
    "    print(\"Column: \", x)\n",
    "    print(vertices[x].describe())\n",
    "    print('--')\n",
    "    \n",
    "print(\"Number of vertices: \", vertices.shape[0])"
   ]
  },
  {
   "cell_type": "markdown",
   "metadata": {},
   "source": [
    "- Il dataset è formato da un totale di 515 nodi\n",
    "- Kind e timeset vengono rimossi in quanto uguali per tutti i nodi\n",
    "- I nodi sono divisi in 22 tipologie di malattie"
   ]
  },
  {
   "cell_type": "markdown",
   "metadata": {},
   "source": [
    "###  Type"
   ]
  },
  {
   "cell_type": "code",
   "execution_count": 19,
   "metadata": {},
   "outputs": [
    {
     "data": {
      "text/plain": [
       "<matplotlib.axes._subplots.AxesSubplot at 0x1d12bbfa2e8>"
      ]
     },
     "execution_count": 19,
     "metadata": {},
     "output_type": "execute_result"
    },
    {
     "data": {
      "image/png": "[encoded data removed]",
      "text/plain": [
       "<Figure size 432x288 with 1 Axes>"
      ]
     },
     "metadata": {
      "needs_background": "light"
     },
     "output_type": "display_data"
    }
   ],
   "source": [
    "vertices['type'].value_counts().plot(kind='barh')"
   ]
  },
  {
   "cell_type": "markdown",
   "metadata": {},
   "source": [
    "## Edges"
   ]
  },
  {
   "cell_type": "code",
   "execution_count": 2,
   "metadata": {},
   "outputs": [
    {
     "data": {
      "text/html": [
       "<div>\n",
       "<style scoped>\n",
       "    .dataframe tbody tr th:only-of-type {\n",
       "        vertical-align: middle;\n",
       "    }\n",
       "\n",
       "    .dataframe tbody tr th {\n",
       "        vertical-align: top;\n",
       "    }\n",
       "\n",
       "    .dataframe thead th {\n",
       "        text-align: right;\n",
       "    }\n",
       "</style>\n",
       "<table border=\"1\" class=\"dataframe\">\n",
       "  <thead>\n",
       "    <tr style=\"text-align: right;\">\n",
       "      <th></th>\n",
       "      <th>Source</th>\n",
       "      <th>Target</th>\n",
       "      <th>Type</th>\n",
       "      <th>label</th>\n",
       "      <th>timeset</th>\n",
       "      <th>weight</th>\n",
       "    </tr>\n",
       "    <tr>\n",
       "      <th>id</th>\n",
       "      <th></th>\n",
       "      <th></th>\n",
       "      <th></th>\n",
       "      <th></th>\n",
       "      <th></th>\n",
       "      <th></th>\n",
       "    </tr>\n",
       "  </thead>\n",
       "  <tbody>\n",
       "    <tr>\n",
       "      <th>1550</th>\n",
       "      <td>1285</td>\n",
       "      <td>858</td>\n",
       "      <td>Directed</td>\n",
       "      <td>NaN</td>\n",
       "      <td>NaN</td>\n",
       "      <td>1.0</td>\n",
       "    </tr>\n",
       "    <tr>\n",
       "      <th>1551</th>\n",
       "      <td>468</td>\n",
       "      <td>81</td>\n",
       "      <td>Directed</td>\n",
       "      <td>NaN</td>\n",
       "      <td>NaN</td>\n",
       "      <td>1.0</td>\n",
       "    </tr>\n",
       "    <tr>\n",
       "      <th>1552</th>\n",
       "      <td>416</td>\n",
       "      <td>411</td>\n",
       "      <td>Directed</td>\n",
       "      <td>NaN</td>\n",
       "      <td>NaN</td>\n",
       "      <td>1.0</td>\n",
       "    </tr>\n",
       "    <tr>\n",
       "      <th>1553</th>\n",
       "      <td>416</td>\n",
       "      <td>417</td>\n",
       "      <td>Directed</td>\n",
       "      <td>NaN</td>\n",
       "      <td>NaN</td>\n",
       "      <td>1.0</td>\n",
       "    </tr>\n",
       "    <tr>\n",
       "      <th>1554</th>\n",
       "      <td>126</td>\n",
       "      <td>125</td>\n",
       "      <td>Directed</td>\n",
       "      <td>NaN</td>\n",
       "      <td>NaN</td>\n",
       "      <td>1.0</td>\n",
       "    </tr>\n",
       "    <tr>\n",
       "      <th>...</th>\n",
       "      <td>...</td>\n",
       "      <td>...</td>\n",
       "      <td>...</td>\n",
       "      <td>...</td>\n",
       "      <td>...</td>\n",
       "      <td>...</td>\n",
       "    </tr>\n",
       "    <tr>\n",
       "      <th>3921</th>\n",
       "      <td>80</td>\n",
       "      <td>365</td>\n",
       "      <td>Directed</td>\n",
       "      <td>NaN</td>\n",
       "      <td>NaN</td>\n",
       "      <td>1.0</td>\n",
       "    </tr>\n",
       "    <tr>\n",
       "      <th>3922</th>\n",
       "      <td>80</td>\n",
       "      <td>87</td>\n",
       "      <td>Directed</td>\n",
       "      <td>NaN</td>\n",
       "      <td>NaN</td>\n",
       "      <td>1.0</td>\n",
       "    </tr>\n",
       "    <tr>\n",
       "      <th>3923</th>\n",
       "      <td>80</td>\n",
       "      <td>99</td>\n",
       "      <td>Directed</td>\n",
       "      <td>NaN</td>\n",
       "      <td>NaN</td>\n",
       "      <td>1.0</td>\n",
       "    </tr>\n",
       "    <tr>\n",
       "      <th>3924</th>\n",
       "      <td>80</td>\n",
       "      <td>366</td>\n",
       "      <td>Directed</td>\n",
       "      <td>NaN</td>\n",
       "      <td>NaN</td>\n",
       "      <td>1.0</td>\n",
       "    </tr>\n",
       "    <tr>\n",
       "      <th>3925</th>\n",
       "      <td>80</td>\n",
       "      <td>960</td>\n",
       "      <td>Directed</td>\n",
       "      <td>NaN</td>\n",
       "      <td>NaN</td>\n",
       "      <td>1.0</td>\n",
       "    </tr>\n",
       "  </tbody>\n",
       "</table>\n",
       "<p>2368 rows × 6 columns</p>\n",
       "</div>"
      ],
      "text/plain": [
       "      Source  Target      Type  label  timeset  weight\n",
       "id                                                    \n",
       "1550    1285     858  Directed    NaN      NaN     1.0\n",
       "1551     468      81  Directed    NaN      NaN     1.0\n",
       "1552     416     411  Directed    NaN      NaN     1.0\n",
       "1553     416     417  Directed    NaN      NaN     1.0\n",
       "1554     126     125  Directed    NaN      NaN     1.0\n",
       "...      ...     ...       ...    ...      ...     ...\n",
       "3921      80     365  Directed    NaN      NaN     1.0\n",
       "3922      80      87  Directed    NaN      NaN     1.0\n",
       "3923      80      99  Directed    NaN      NaN     1.0\n",
       "3924      80     366  Directed    NaN      NaN     1.0\n",
       "3925      80     960  Directed    NaN      NaN     1.0\n",
       "\n",
       "[2368 rows x 6 columns]"
      ]
     },
     "execution_count": 2,
     "metadata": {},
     "output_type": "execute_result"
    }
   ],
   "source": [
    "edges = pd.read_csv(\"Dataset/disease_edges.csv\", sep=\";\")\n",
    "edges = edges.set_index('id')\n",
    "\n",
    "edges"
   ]
  },
  {
   "cell_type": "code",
   "execution_count": 3,
   "metadata": {},
   "outputs": [
    {
     "name": "stdout",
     "output_type": "stream",
     "text": [
      "Column:  Type\n",
      "count         2368\n",
      "unique           1\n",
      "top       Directed\n",
      "freq          2368\n",
      "Name: Type, dtype: object\n",
      "--\n",
      "Column:  label\n",
      "count    0.0\n",
      "mean     NaN\n",
      "std      NaN\n",
      "min      NaN\n",
      "25%      NaN\n",
      "50%      NaN\n",
      "75%      NaN\n",
      "max      NaN\n",
      "Name: label, dtype: float64\n",
      "--\n",
      "Column:  timeset\n",
      "count    0.0\n",
      "mean     NaN\n",
      "std      NaN\n",
      "min      NaN\n",
      "25%      NaN\n",
      "50%      NaN\n",
      "75%      NaN\n",
      "max      NaN\n",
      "Name: timeset, dtype: float64\n",
      "--\n",
      "Column:  weight\n",
      "count    2368.0\n",
      "mean        1.0\n",
      "std         0.0\n",
      "min         1.0\n",
      "25%         1.0\n",
      "50%         1.0\n",
      "75%         1.0\n",
      "max         1.0\n",
      "Name: weight, dtype: float64\n",
      "--\n",
      "Number of edges:  2368\n"
     ]
    }
   ],
   "source": [
    "for x in edges.columns[2:]:\n",
    "    print(\"Column: \", x)\n",
    "    print(edges[x].describe())\n",
    "    print('--')\n",
    "    \n",
    "print(\"Number of edges: \", edges.shape[0])\n"
   ]
  },
  {
   "cell_type": "markdown",
   "metadata": {},
   "source": [
    "- Gli attributi sopra riportati possono essere omessi in quanto presentano lo stesso valore per tutti gli archi\n",
    "- Il grafo è composto da 2368 **archi diretti**"
   ]
  },
  {
   "cell_type": "code",
   "execution_count": 7,
   "metadata": {},
   "outputs": [],
   "source": [
    "for i in vertices.index:\n",
    "    if(edges.loc[edges['Target'] == i]['Source'].size != edges.loc[edges['Source'] == i]['Target'].size):\n",
    "        print(i)"
   ]
  },
  {
   "cell_type": "code",
   "execution_count": 8,
   "metadata": {},
   "outputs": [],
   "source": [
    "for i in vertices.index:\n",
    "    for x in edges.loc[edges['Target'] == i]['Source']:\n",
    "        if(edges.loc[(edges['Target'] == x) & (edges['Source'] == i)].shape[0] != 1):\n",
    "            print(i)\n",
    "       "
   ]
  },
  {
   "cell_type": "markdown",
   "metadata": {},
   "source": [
    "- La rete per ogni arco presenta anche il proprio reciproco, grazie alle funzionalità di Cytoscape sono stati rimossi i nodi \"doppioni\" e la rete è stata trasformata da rete diretta a **rete indiretta**\n",
    "- Il numero di **archi indiretti totali** è: 1184\n"
   ]
  }
 ],
 "metadata": {
  "kernelspec": {
   "display_name": "Python 3",
   "language": "python",
   "name": "python3"
  },
  "language_info": {
   "codemirror_mode": {
    "name": "ipython",
    "version": 3
   },
   "file_extension": ".py",
   "mimetype": "text/x-python",
   "name": "python",
   "nbconvert_exporter": "python",
   "pygments_lexer": "ipython3",
   "version": "3.6.8"
  }
 },
 "nbformat": 4,
 "nbformat_minor": 4
}
